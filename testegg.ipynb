{
 "cells": [
  {
   "cell_type": "code",
   "execution_count": 3,
   "id": "1b41c4f6-e50a-411d-ba92-36f16b0c9a6e",
   "metadata": {},
   "outputs": [
    {
     "name": "stdout",
     "output_type": "stream",
     "text": [
      "Welcome to  our module.\n"
     ]
    }
   ],
   "source": [
    "from package.egg import egg"
   ]
  },
  {
   "cell_type": "code",
   "execution_count": 4,
   "id": "37c242a7-ff40-4221-a6a8-24d8d0abe20b",
   "metadata": {},
   "outputs": [
    {
     "name": "stdout",
     "output_type": "stream",
     "text": [
      "Egg is cooked\n"
     ]
    }
   ],
   "source": [
    "egg()"
   ]
  },
  {
   "cell_type": "code",
   "execution_count": null,
   "id": "33542610-f7d0-45e1-afa8-b97b7707f752",
   "metadata": {},
   "outputs": [],
   "source": []
  }
 ],
 "metadata": {
  "kernelspec": {
   "display_name": "Python 3",
   "language": "python",
   "name": "python3"
  },
  "language_info": {
   "codemirror_mode": {
    "name": "ipython",
    "version": 3
   },
   "file_extension": ".py",
   "mimetype": "text/x-python",
   "name": "python",
   "nbconvert_exporter": "python",
   "pygments_lexer": "ipython3",
   "version": "3.8.8"
  }
 },
 "nbformat": 4,
 "nbformat_minor": 5
}
